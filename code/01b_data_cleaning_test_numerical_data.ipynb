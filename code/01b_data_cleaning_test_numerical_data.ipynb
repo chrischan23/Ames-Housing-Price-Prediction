{
 "cells": [
  {
   "cell_type": "markdown",
   "metadata": {},
   "source": [
    "# Importing and Cleaning of Test Numerical Data"
   ]
  },
  {
   "cell_type": "markdown",
   "metadata": {},
   "source": [
    "In this notebook will be cleaning the all variables in the test dataset that we will use to predict our model for Kaggle"
   ]
  },
  {
   "cell_type": "markdown",
   "metadata": {},
   "source": [
    "### Contents:\n",
    "* [Data Import & Cleaning - Test Dataset](#Data-Import-&-Cleaning-Test-Dataset)  \n",
    "  * [Inspect columns with large number of null values](#Inspect-columns-with-large-number-of-null-values)\n",
    "* [Fixing Null Data](#Fixing-Null-Data)\n",
    "  * [Pool QC, Misc Feature, Alley, Fence, Fireplace Qu](#Pool-QC,-Misc-Feature,-Alley,-Fence,-Fireplace-Qu)\n",
    "  * [Lot Frontage](#Lot-Frontage)\n",
    "  * [Garage (Qual, Finish, Cond, Yr Blt, Type)](#Garage-(Qual,-Finish,-Cond,-Yr-Blt,-Type))\n",
    "  * [Bsmt (Exposure, Fin Type 2, Cond, Qual, Fin Type 1)](#Bsmt-(Exposure,-Fin-Type-2,-Cond,-Qual,-Fin-Type-1))\n",
    "  * [Mas Vnr Type, Mas Vnr Area](#Mas-Vnr-Type,-Mas-Vnr-Area)\n",
    "  * [Rest of the basment features (Bsmt Half Bath, Bsmt Full Bath, Total Bsmt SF, Bsmt Unf SF, BsmtFin SF 2, BsmtFin SF 2, BsmtFin SF 1)](#Rest-of-the-basment-features-(Bsmt-Half-Bath,-Bsmt-Full-Bath,-Total-Bsmt-SF,-Bsmt-Unf-SF,-BsmtFin-SF-2,-BsmtFin-SF-2,-BsmtFin-SF-1))\n",
    "  * [Garage Cars and Garage Area](#Garage-Cars-and-Garage-Area)\n",
    "  * [Review Data](#Review_Data)\n",
    "* [Export Dataset](#Export-Dataset)\n",
    "* [Summary](#Summary)"
   ]
  },
  {
   "cell_type": "markdown",
   "metadata": {},
   "source": [
    "### Data Import & Cleaning Test Dataset"
   ]
  },
  {
   "cell_type": "code",
   "execution_count": 1,
   "metadata": {},
   "outputs": [],
   "source": [
    "#import libraries\n",
    "import pandas as pd\n",
    "import numpy as np"
   ]
  },
  {
   "cell_type": "code",
   "execution_count": 2,
   "metadata": {},
   "outputs": [
    {
     "data": {
      "text/html": [
       "<div>\n",
       "<style scoped>\n",
       "    .dataframe tbody tr th:only-of-type {\n",
       "        vertical-align: middle;\n",
       "    }\n",
       "\n",
       "    .dataframe tbody tr th {\n",
       "        vertical-align: top;\n",
       "    }\n",
       "\n",
       "    .dataframe thead th {\n",
       "        text-align: right;\n",
       "    }\n",
       "</style>\n",
       "<table border=\"1\" class=\"dataframe\">\n",
       "  <thead>\n",
       "    <tr style=\"text-align: right;\">\n",
       "      <th></th>\n",
       "      <th>PID</th>\n",
       "      <th>MS SubClass</th>\n",
       "      <th>MS Zoning</th>\n",
       "      <th>Lot Frontage</th>\n",
       "      <th>Lot Area</th>\n",
       "      <th>Street</th>\n",
       "      <th>Alley</th>\n",
       "      <th>Lot Shape</th>\n",
       "      <th>Land Contour</th>\n",
       "      <th>Utilities</th>\n",
       "      <th>...</th>\n",
       "      <th>3Ssn Porch</th>\n",
       "      <th>Screen Porch</th>\n",
       "      <th>Pool Area</th>\n",
       "      <th>Pool QC</th>\n",
       "      <th>Fence</th>\n",
       "      <th>Misc Feature</th>\n",
       "      <th>Misc Val</th>\n",
       "      <th>Mo Sold</th>\n",
       "      <th>Yr Sold</th>\n",
       "      <th>Sale Type</th>\n",
       "    </tr>\n",
       "    <tr>\n",
       "      <th>Id</th>\n",
       "      <th></th>\n",
       "      <th></th>\n",
       "      <th></th>\n",
       "      <th></th>\n",
       "      <th></th>\n",
       "      <th></th>\n",
       "      <th></th>\n",
       "      <th></th>\n",
       "      <th></th>\n",
       "      <th></th>\n",
       "      <th></th>\n",
       "      <th></th>\n",
       "      <th></th>\n",
       "      <th></th>\n",
       "      <th></th>\n",
       "      <th></th>\n",
       "      <th></th>\n",
       "      <th></th>\n",
       "      <th></th>\n",
       "      <th></th>\n",
       "      <th></th>\n",
       "    </tr>\n",
       "  </thead>\n",
       "  <tbody>\n",
       "    <tr>\n",
       "      <th>2658</th>\n",
       "      <td>902301120</td>\n",
       "      <td>190</td>\n",
       "      <td>RM</td>\n",
       "      <td>69.0</td>\n",
       "      <td>9142</td>\n",
       "      <td>Pave</td>\n",
       "      <td>Grvl</td>\n",
       "      <td>Reg</td>\n",
       "      <td>Lvl</td>\n",
       "      <td>AllPub</td>\n",
       "      <td>...</td>\n",
       "      <td>0</td>\n",
       "      <td>0</td>\n",
       "      <td>0</td>\n",
       "      <td>NaN</td>\n",
       "      <td>NaN</td>\n",
       "      <td>NaN</td>\n",
       "      <td>0</td>\n",
       "      <td>4</td>\n",
       "      <td>2006</td>\n",
       "      <td>WD</td>\n",
       "    </tr>\n",
       "    <tr>\n",
       "      <th>2718</th>\n",
       "      <td>905108090</td>\n",
       "      <td>90</td>\n",
       "      <td>RL</td>\n",
       "      <td>NaN</td>\n",
       "      <td>9662</td>\n",
       "      <td>Pave</td>\n",
       "      <td>NaN</td>\n",
       "      <td>IR1</td>\n",
       "      <td>Lvl</td>\n",
       "      <td>AllPub</td>\n",
       "      <td>...</td>\n",
       "      <td>0</td>\n",
       "      <td>0</td>\n",
       "      <td>0</td>\n",
       "      <td>NaN</td>\n",
       "      <td>NaN</td>\n",
       "      <td>NaN</td>\n",
       "      <td>0</td>\n",
       "      <td>8</td>\n",
       "      <td>2006</td>\n",
       "      <td>WD</td>\n",
       "    </tr>\n",
       "    <tr>\n",
       "      <th>2414</th>\n",
       "      <td>528218130</td>\n",
       "      <td>60</td>\n",
       "      <td>RL</td>\n",
       "      <td>58.0</td>\n",
       "      <td>17104</td>\n",
       "      <td>Pave</td>\n",
       "      <td>NaN</td>\n",
       "      <td>IR1</td>\n",
       "      <td>Lvl</td>\n",
       "      <td>AllPub</td>\n",
       "      <td>...</td>\n",
       "      <td>0</td>\n",
       "      <td>0</td>\n",
       "      <td>0</td>\n",
       "      <td>NaN</td>\n",
       "      <td>NaN</td>\n",
       "      <td>NaN</td>\n",
       "      <td>0</td>\n",
       "      <td>9</td>\n",
       "      <td>2006</td>\n",
       "      <td>New</td>\n",
       "    </tr>\n",
       "    <tr>\n",
       "      <th>1989</th>\n",
       "      <td>902207150</td>\n",
       "      <td>30</td>\n",
       "      <td>RM</td>\n",
       "      <td>60.0</td>\n",
       "      <td>8520</td>\n",
       "      <td>Pave</td>\n",
       "      <td>NaN</td>\n",
       "      <td>Reg</td>\n",
       "      <td>Lvl</td>\n",
       "      <td>AllPub</td>\n",
       "      <td>...</td>\n",
       "      <td>0</td>\n",
       "      <td>0</td>\n",
       "      <td>0</td>\n",
       "      <td>NaN</td>\n",
       "      <td>NaN</td>\n",
       "      <td>NaN</td>\n",
       "      <td>0</td>\n",
       "      <td>7</td>\n",
       "      <td>2007</td>\n",
       "      <td>WD</td>\n",
       "    </tr>\n",
       "    <tr>\n",
       "      <th>625</th>\n",
       "      <td>535105100</td>\n",
       "      <td>20</td>\n",
       "      <td>RL</td>\n",
       "      <td>NaN</td>\n",
       "      <td>9500</td>\n",
       "      <td>Pave</td>\n",
       "      <td>NaN</td>\n",
       "      <td>IR1</td>\n",
       "      <td>Lvl</td>\n",
       "      <td>AllPub</td>\n",
       "      <td>...</td>\n",
       "      <td>0</td>\n",
       "      <td>185</td>\n",
       "      <td>0</td>\n",
       "      <td>NaN</td>\n",
       "      <td>NaN</td>\n",
       "      <td>NaN</td>\n",
       "      <td>0</td>\n",
       "      <td>7</td>\n",
       "      <td>2009</td>\n",
       "      <td>WD</td>\n",
       "    </tr>\n",
       "  </tbody>\n",
       "</table>\n",
       "<p>5 rows × 79 columns</p>\n",
       "</div>"
      ],
      "text/plain": [
       "            PID  MS SubClass MS Zoning  Lot Frontage  Lot Area Street Alley  \\\n",
       "Id                                                                            \n",
       "2658  902301120          190        RM          69.0      9142   Pave  Grvl   \n",
       "2718  905108090           90        RL           NaN      9662   Pave   NaN   \n",
       "2414  528218130           60        RL          58.0     17104   Pave   NaN   \n",
       "1989  902207150           30        RM          60.0      8520   Pave   NaN   \n",
       "625   535105100           20        RL           NaN      9500   Pave   NaN   \n",
       "\n",
       "     Lot Shape Land Contour Utilities  ... 3Ssn Porch Screen Porch Pool Area  \\\n",
       "Id                                     ...                                     \n",
       "2658       Reg          Lvl    AllPub  ...          0            0         0   \n",
       "2718       IR1          Lvl    AllPub  ...          0            0         0   \n",
       "2414       IR1          Lvl    AllPub  ...          0            0         0   \n",
       "1989       Reg          Lvl    AllPub  ...          0            0         0   \n",
       "625        IR1          Lvl    AllPub  ...          0          185         0   \n",
       "\n",
       "     Pool QC Fence Misc Feature Misc Val  Mo Sold  Yr Sold  Sale Type  \n",
       "Id                                                                     \n",
       "2658     NaN   NaN          NaN        0        4     2006        WD   \n",
       "2718     NaN   NaN          NaN        0        8     2006        WD   \n",
       "2414     NaN   NaN          NaN        0        9     2006        New  \n",
       "1989     NaN   NaN          NaN        0        7     2007        WD   \n",
       "625      NaN   NaN          NaN        0        7     2009        WD   \n",
       "\n",
       "[5 rows x 79 columns]"
      ]
     },
     "execution_count": 2,
     "metadata": {},
     "output_type": "execute_result"
    }
   ],
   "source": [
    "#read test dataset\n",
    "filename = \"../datasets/test.csv\"\n",
    "test_unclean = pd.read_csv(filename, index_col=\"Id\")\n",
    "\n",
    "#inspect first few rows of the dataset\n",
    "test_unclean.head()"
   ]
  },
  {
   "cell_type": "code",
   "execution_count": 3,
   "metadata": {},
   "outputs": [
    {
     "data": {
      "text/plain": [
       "(879, 79)"
      ]
     },
     "execution_count": 3,
     "metadata": {},
     "output_type": "execute_result"
    }
   ],
   "source": [
    "test_unclean.shape"
   ]
  },
  {
   "cell_type": "code",
   "execution_count": 4,
   "metadata": {},
   "outputs": [
    {
     "name": "stdout",
     "output_type": "stream",
     "text": [
      "<class 'pandas.core.frame.DataFrame'>\n",
      "Int64Index: 879 entries, 2658 to 1939\n",
      "Data columns (total 79 columns):\n",
      " #   Column           Non-Null Count  Dtype  \n",
      "---  ------           --------------  -----  \n",
      " 0   PID              879 non-null    int64  \n",
      " 1   MS SubClass      879 non-null    int64  \n",
      " 2   MS Zoning        879 non-null    object \n",
      " 3   Lot Frontage     719 non-null    float64\n",
      " 4   Lot Area         879 non-null    int64  \n",
      " 5   Street           879 non-null    object \n",
      " 6   Alley            58 non-null     object \n",
      " 7   Lot Shape        879 non-null    object \n",
      " 8   Land Contour     879 non-null    object \n",
      " 9   Utilities        879 non-null    object \n",
      " 10  Lot Config       879 non-null    object \n",
      " 11  Land Slope       879 non-null    object \n",
      " 12  Neighborhood     879 non-null    object \n",
      " 13  Condition 1      879 non-null    object \n",
      " 14  Condition 2      879 non-null    object \n",
      " 15  Bldg Type        879 non-null    object \n",
      " 16  House Style      879 non-null    object \n",
      " 17  Overall Qual     879 non-null    int64  \n",
      " 18  Overall Cond     879 non-null    int64  \n",
      " 19  Year Built       879 non-null    int64  \n",
      " 20  Year Remod/Add   879 non-null    int64  \n",
      " 21  Roof Style       879 non-null    object \n",
      " 22  Roof Matl        879 non-null    object \n",
      " 23  Exterior 1st     879 non-null    object \n",
      " 24  Exterior 2nd     879 non-null    object \n",
      " 25  Mas Vnr Type     878 non-null    object \n",
      " 26  Mas Vnr Area     878 non-null    float64\n",
      " 27  Exter Qual       879 non-null    object \n",
      " 28  Exter Cond       879 non-null    object \n",
      " 29  Foundation       879 non-null    object \n",
      " 30  Bsmt Qual        854 non-null    object \n",
      " 31  Bsmt Cond        854 non-null    object \n",
      " 32  Bsmt Exposure    854 non-null    object \n",
      " 33  BsmtFin Type 1   854 non-null    object \n",
      " 34  BsmtFin SF 1     879 non-null    int64  \n",
      " 35  BsmtFin Type 2   854 non-null    object \n",
      " 36  BsmtFin SF 2     879 non-null    int64  \n",
      " 37  Bsmt Unf SF      879 non-null    int64  \n",
      " 38  Total Bsmt SF    879 non-null    int64  \n",
      " 39  Heating          879 non-null    object \n",
      " 40  Heating QC       879 non-null    object \n",
      " 41  Central Air      879 non-null    object \n",
      " 42  Electrical       878 non-null    object \n",
      " 43  1st Flr SF       879 non-null    int64  \n",
      " 44  2nd Flr SF       879 non-null    int64  \n",
      " 45  Low Qual Fin SF  879 non-null    int64  \n",
      " 46  Gr Liv Area      879 non-null    int64  \n",
      " 47  Bsmt Full Bath   879 non-null    int64  \n",
      " 48  Bsmt Half Bath   879 non-null    int64  \n",
      " 49  Full Bath        879 non-null    int64  \n",
      " 50  Half Bath        879 non-null    int64  \n",
      " 51  Bedroom AbvGr    879 non-null    int64  \n",
      " 52  Kitchen AbvGr    879 non-null    int64  \n",
      " 53  Kitchen Qual     879 non-null    object \n",
      " 54  TotRms AbvGrd    879 non-null    int64  \n",
      " 55  Functional       879 non-null    object \n",
      " 56  Fireplaces       879 non-null    int64  \n",
      " 57  Fireplace Qu     457 non-null    object \n",
      " 58  Garage Type      835 non-null    object \n",
      " 59  Garage Yr Blt    834 non-null    float64\n",
      " 60  Garage Finish    834 non-null    object \n",
      " 61  Garage Cars      879 non-null    int64  \n",
      " 62  Garage Area      879 non-null    int64  \n",
      " 63  Garage Qual      834 non-null    object \n",
      " 64  Garage Cond      834 non-null    object \n",
      " 65  Paved Drive      879 non-null    object \n",
      " 66  Wood Deck SF     879 non-null    int64  \n",
      " 67  Open Porch SF    879 non-null    int64  \n",
      " 68  Enclosed Porch   879 non-null    int64  \n",
      " 69  3Ssn Porch       879 non-null    int64  \n",
      " 70  Screen Porch     879 non-null    int64  \n",
      " 71  Pool Area        879 non-null    int64  \n",
      " 72  Pool QC          4 non-null      object \n",
      " 73  Fence            172 non-null    object \n",
      " 74  Misc Feature     41 non-null     object \n",
      " 75  Misc Val         879 non-null    int64  \n",
      " 76  Mo Sold          879 non-null    int64  \n",
      " 77  Yr Sold          879 non-null    int64  \n",
      " 78  Sale Type        879 non-null    object \n",
      "dtypes: float64(3), int64(34), object(42)\n",
      "memory usage: 549.4+ KB\n"
     ]
    }
   ],
   "source": [
    "#review datatypes and shape of the data\n",
    "test_unclean.info()"
   ]
  },
  {
   "cell_type": "markdown",
   "metadata": {},
   "source": [
    "* On first impression of the data, there are 80 columns and 879 rows of entries.\n",
    "* Price is what we want to predict hence it will be our target. \n",
    "* Some features like \"Alley\", \"Pool QC\", \"Misc Features\", \"Fence\" have close to no information at all. We will need to investigate this to see how we can fill the null values to not lose to much data."
   ]
  },
  {
   "cell_type": "markdown",
   "metadata": {},
   "source": [
    "##### Inspect columns with large number of null values"
   ]
  },
  {
   "cell_type": "code",
   "execution_count": 5,
   "metadata": {},
   "outputs": [
    {
     "data": {
      "text/plain": [
       "Pool QC           875\n",
       "Misc Feature      838\n",
       "Alley             821\n",
       "Fence             707\n",
       "Fireplace Qu      422\n",
       "Lot Frontage      160\n",
       "Garage Cond        45\n",
       "Garage Qual        45\n",
       "Garage Yr Blt      45\n",
       "Garage Finish      45\n",
       "Garage Type        44\n",
       "BsmtFin Type 1     25\n",
       "Bsmt Exposure      25\n",
       "Bsmt Qual          25\n",
       "Bsmt Cond          25\n",
       "BsmtFin Type 2     25\n",
       "Mas Vnr Area        1\n",
       "Electrical          1\n",
       "Mas Vnr Type        1\n",
       "dtype: int64"
      ]
     },
     "execution_count": 5,
     "metadata": {},
     "output_type": "execute_result"
    }
   ],
   "source": [
    "#columns with total number of null values\n",
    "null_values = test_unclean.isnull().sum().sort_values(ascending = False)\n",
    "\n",
    "#look at only those columns with null values \n",
    "null_values[null_values>0]"
   ]
  },
  {
   "cell_type": "markdown",
   "metadata": {},
   "source": [
    "## Fixing Null Data\n",
    "\n",
    "\n",
    "Our main approach to clean the test data set is as how it was in the train dataset: via logical induction by refering to [data description](http://jse.amstat.org/v19n3/decock/DataDocumentation.txt)  \n",
    "\n",
    "We want to keep as much data as possible to minimise dropping any rows or columns unnecessarily. \n",
    "\n",
    "\n",
    "\n",
    "\n",
    "\n",
    "\n",
    "| Column         | Data Type | Number of Null Values | Column Description                                    | NA values in column                            | Action                                    |\n",
    "|:----------------|:-----------|:-----------------------|:-------------------------------------------------------|:------------------------------------------------|:-------------------------------------------|\n",
    "| Pool QC        | object    | 875                   | Pool quality                                          | NA is defined as no pool                       | Convert null to 'NONE'                      |\n",
    "| Misc Feature   | object    | 838                   | Miscellaneous feature not covered in other categories | NA is defined as no misc features              | Convert null to 'NONE'                      |\n",
    "| Alley          | object    | 821                   | Type of alley access to property                      | NA is defined as no alley access               | Convert null to 'NONE'                      |\n",
    "| Fence          | object    | 707                   | Fence Quality                                         | NA is defined as no fence                      | Convert null to 'NONE'                      |\n",
    "| Fireplace Qu   | object    | 422                   | Fireplace quality                                     | NA is defined as no fireplace                  | Convert null to 'NONE'                      |\n",
    "| Lot Frontage   | Float     | 160                   | Linear feet of street connected to property           | No other values in column are 0                | Convert null to mean                      |\n",
    "| Garage Cond    | object    | 45                    | Garage condition                                      | NA is defined as no garage                     | Convert null to 'NONE'                      |\n",
    "| Garage Qual    | object    | 45                    | Garage quality                                        | NA is defined as no garage                     | Convert null to 'NONE'                      |\n",
    "| Garage Yr Blt  | Float     | 45                    | Year garage was built                                 | Object type is float. Convert to 0 for no year | Convert null to '0'                       |\n",
    "| Garage Finish  | object    | 45                    | Interior finish of the garage                         | NA is defined as no garage                     | Convert null to 'NONE'                      |\n",
    "| Garage Type    | object    | 44                    | Garage location                                       | NA is defined as no garage                     | Convert null to 'NONE'                      |\n",
    "| Bsmt Exposure  | object    | 25                    | Refers to walkout or garden level walls               | NA is defined as no basement                   | Convert null to 'NONE'                      |\n",
    "| BsmtFin Type 1 | object    | 25                    | Rating of basement finished area                      | NA is defined as no basement                   | Convert null to 'NONE'                      |\n",
    "| Bsmt Qual      | object    | 25                    | Evaluates the height of the basement                  | NA is defined as no basement                   | Convert null to 'NONE'                      |\n",
    "| BsmtFin Type 2 | object    | 25                    | Rating of basement finished area (if multiple types)  | NA is defined as no basement                   | Convert null to 'NONE'                      |\n",
    "| Bsmt Cond      | object    | 25                    | Evaluates the general condition of the basement       | NA is defined as no basement                   | Convert null to 'NONE'                      |\n",
    "| Mas Vnr Area   | Float     | 1                     | Masonry veneer area in square feet                    | '0' has already been entered for no distance   | Convert to mean of the mode of the column |\n",
    "| Mas Vnr Type   | object    | 1                     | Masonry veneer type                                   | None is defined as no mansory                  | Convert null to the mode of the column    |\n",
    "| Electrical     | object    | 1                     | Electrical System                                     | No 'NA' values                                 | Fill null with mode of the column         |"
   ]
  },
  {
   "cell_type": "markdown",
   "metadata": {},
   "source": [
    "###### Pool QC, Misc Feature, Alley, Fence, Fireplace Qu"
   ]
  },
  {
   "cell_type": "code",
   "execution_count": 6,
   "metadata": {},
   "outputs": [],
   "source": [
    "#'NA' refers to no pool, misc feature, alley, fence and fireplace respectively for these columns\n",
    "#hence we fill all nulls of these columns to 'NONE' category\n",
    "\n",
    "test_unclean[\"Pool QC\"].fillna('NONE', inplace=True)\n",
    "test_unclean[\"Misc Feature\"].fillna('NONE', inplace=True)\n",
    "test_unclean[\"Alley\"].fillna('NONE', inplace=True)\n",
    "test_unclean[\"Fence\"].fillna('NONE', inplace=True)\n",
    "test_unclean[\"Fireplace Qu\"].fillna('NONE', inplace=True)"
   ]
  },
  {
   "cell_type": "markdown",
   "metadata": {},
   "source": [
    "##### Lot Frontage"
   ]
  },
  {
   "cell_type": "code",
   "execution_count": 7,
   "metadata": {},
   "outputs": [
    {
     "data": {
      "text/plain": [
       "count    719.000000\n",
       "mean      69.630042\n",
       "std       23.625372\n",
       "min       21.000000\n",
       "25%       59.000000\n",
       "50%       68.000000\n",
       "75%       80.000000\n",
       "max      182.000000\n",
       "Name: Lot Frontage, dtype: float64"
      ]
     },
     "execution_count": 7,
     "metadata": {},
     "output_type": "execute_result"
    }
   ],
   "source": [
    "#look at the minimum for Lot Frontage\n",
    "test_unclean[\"Lot Frontage\"].describe()"
   ]
  },
  {
   "cell_type": "code",
   "execution_count": 8,
   "metadata": {},
   "outputs": [],
   "source": [
    "#as the minimum for lot frontage is 21, we can assume that there wont be any house with 0 lot frontage\n",
    "#hence we can fill the null values with the mean of the column\n",
    "test_unclean[\"Lot Frontage\"].fillna(test_unclean[\"Lot Frontage\"].mean(), inplace=True)"
   ]
  },
  {
   "cell_type": "markdown",
   "metadata": {},
   "source": [
    "##### Garage (Cond, Qual, Yr Blt, Finish, Type)"
   ]
  },
  {
   "cell_type": "code",
   "execution_count": 9,
   "metadata": {},
   "outputs": [],
   "source": [
    "#checking the 'garage' columns, 'NA' refers to no garage for the object types columns: Qual, Finnish, Cond, Type\n",
    "#hence we fill all nulls of these columns to 'NONE' category\n",
    "test_unclean[\"Garage Qual\"].fillna('NONE', inplace=True)\n",
    "test_unclean[\"Garage Finish\"].fillna('NONE', inplace=True)\n",
    "test_unclean[\"Garage Cond\"].fillna('NONE', inplace=True)\n",
    "test_unclean[\"Garage Type\"].fillna('NONE', inplace=True) "
   ]
  },
  {
   "cell_type": "code",
   "execution_count": 10,
   "metadata": {},
   "outputs": [
    {
     "data": {
      "text/plain": [
       "count     834.000000\n",
       "mean     1976.796163\n",
       "std        25.695683\n",
       "min      1900.000000\n",
       "25%      1960.000000\n",
       "50%      1978.000000\n",
       "75%      2001.000000\n",
       "max      2010.000000\n",
       "Name: Garage Yr Blt, dtype: float64"
      ]
     },
     "execution_count": 10,
     "metadata": {},
     "output_type": "execute_result"
    }
   ],
   "source": [
    "#looking at the summary statistic for Garage Yr Blt\n",
    "test_unclean[\"Garage Yr Blt\"].describe()"
   ]
  },
  {
   "cell_type": "code",
   "execution_count": 11,
   "metadata": {},
   "outputs": [],
   "source": [
    "#the year in which the garage was built is indicated\n",
    "#hence we will indicate '0' for null values which indicates no garage was built for a float column\n",
    "test_unclean[\"Garage Yr Blt\"].fillna('0', inplace=True)"
   ]
  },
  {
   "cell_type": "markdown",
   "metadata": {},
   "source": [
    "##### Bsmt (Exposure, Fin Type 1, Qual, Fin Type 2, Cond)"
   ]
  },
  {
   "cell_type": "code",
   "execution_count": 12,
   "metadata": {},
   "outputs": [],
   "source": [
    "#checking the 'bsmt' columns, 'NA' refers to no basement for the object types columns: Exposure, Fin Type2, Cond, Qual, Fin Type1\n",
    "#hence we fill all nulls of these columns to 'NA' category\n",
    "test_unclean[\"Bsmt Exposure\"].fillna('NONE', inplace=True)\n",
    "test_unclean[\"BsmtFin Type 1\"].fillna('NONE', inplace=True)\n",
    "test_unclean[\"Bsmt Qual\"].fillna('NONE', inplace=True)\n",
    "test_unclean[\"BsmtFin Type 2\"].fillna('NONE', inplace=True)\n",
    "test_unclean[\"Bsmt Cond\"].fillna('NONE', inplace=True)"
   ]
  },
  {
   "cell_type": "markdown",
   "metadata": {},
   "source": [
    "##### Mas Vnr Type, Mas Vnr Area"
   ]
  },
  {
   "cell_type": "code",
   "execution_count": 13,
   "metadata": {},
   "outputs": [
    {
     "data": {
      "text/plain": [
       "count      878\n",
       "unique       5\n",
       "top       None\n",
       "freq       534\n",
       "Name: Mas Vnr Type, dtype: object"
      ]
     },
     "metadata": {},
     "output_type": "display_data"
    },
    {
     "data": {
      "text/plain": [
       "None       534\n",
       "BrkFace    250\n",
       "Stone       81\n",
       "BrkCmn      12\n",
       "CBlock       1\n",
       "Name: Mas Vnr Type, dtype: int64"
      ]
     },
     "metadata": {},
     "output_type": "display_data"
    }
   ],
   "source": [
    "#look at the Mas Vnr Type columns\n",
    "display(test_unclean[\"Mas Vnr Type\"].describe())\n",
    "display(test_unclean[\"Mas Vnr Type\"].value_counts())"
   ]
  },
  {
   "cell_type": "code",
   "execution_count": 14,
   "metadata": {},
   "outputs": [
    {
     "data": {
      "text/html": [
       "<div>\n",
       "<style scoped>\n",
       "    .dataframe tbody tr th:only-of-type {\n",
       "        vertical-align: middle;\n",
       "    }\n",
       "\n",
       "    .dataframe tbody tr th {\n",
       "        vertical-align: top;\n",
       "    }\n",
       "\n",
       "    .dataframe thead th {\n",
       "        text-align: right;\n",
       "    }\n",
       "</style>\n",
       "<table border=\"1\" class=\"dataframe\">\n",
       "  <thead>\n",
       "    <tr style=\"text-align: right;\">\n",
       "      <th></th>\n",
       "      <th>Mas Vnr Type</th>\n",
       "      <th>Mas Vnr Area</th>\n",
       "    </tr>\n",
       "    <tr>\n",
       "      <th>Id</th>\n",
       "      <th></th>\n",
       "      <th></th>\n",
       "    </tr>\n",
       "  </thead>\n",
       "  <tbody>\n",
       "    <tr>\n",
       "      <th>868</th>\n",
       "      <td>NaN</td>\n",
       "      <td>NaN</td>\n",
       "    </tr>\n",
       "  </tbody>\n",
       "</table>\n",
       "</div>"
      ],
      "text/plain": [
       "    Mas Vnr Type  Mas Vnr Area\n",
       "Id                            \n",
       "868          NaN           NaN"
      ]
     },
     "execution_count": 14,
     "metadata": {},
     "output_type": "execute_result"
    }
   ],
   "source": [
    "#highest frequency of the column is \"None\", which refers to no masonry veneer \n",
    "#looking at rows that are null for type and area\n",
    "test_unclean[test_unclean[\"Mas Vnr Type\"].isnull()][[\"Mas Vnr Type\", \"Mas Vnr Area\"]]"
   ]
  },
  {
   "cell_type": "code",
   "execution_count": 15,
   "metadata": {},
   "outputs": [],
   "source": [
    "#we can see that Mas Vnr Type is linked to Mas Vnr Area\n",
    "#we will fill these null values with the mode \"None\", and hence \"0\" for Mas Vnr Type and Mas Vnr Area columns respectively\n",
    "test_unclean[\"Mas Vnr Type\"].fillna('NONE', inplace=True)\n",
    "test_unclean[\"Mas Vnr Area\"].fillna('0', inplace=True)"
   ]
  },
  {
   "cell_type": "markdown",
   "metadata": {},
   "source": [
    "##### Electrical "
   ]
  },
  {
   "cell_type": "code",
   "execution_count": 16,
   "metadata": {},
   "outputs": [
    {
     "data": {
      "text/plain": [
       "count       878\n",
       "unique        4\n",
       "top       SBrkr\n",
       "freq        814\n",
       "Name: Electrical, dtype: object"
      ]
     },
     "metadata": {},
     "output_type": "display_data"
    },
    {
     "data": {
      "text/plain": [
       "SBrkr    814\n",
       "FuseA     48\n",
       "FuseF     15\n",
       "FuseP      1\n",
       "Name: Electrical, dtype: int64"
      ]
     },
     "metadata": {},
     "output_type": "display_data"
    }
   ],
   "source": [
    "#look at the Electrical columns\n",
    "display(test_unclean[\"Electrical\"].describe())\n",
    "display(test_unclean[\"Electrical\"].value_counts())"
   ]
  },
  {
   "cell_type": "code",
   "execution_count": 17,
   "metadata": {},
   "outputs": [],
   "source": [
    "#highest frequency of the column is \"SBrkr\"\n",
    "#we will fill the only single null value in elecrical column with the mode\n",
    "test_unclean[\"Electrical\"].fillna('SBrkr', inplace=True)"
   ]
  },
  {
   "cell_type": "markdown",
   "metadata": {},
   "source": [
    "###### Review Data"
   ]
  },
  {
   "cell_type": "code",
   "execution_count": 18,
   "metadata": {},
   "outputs": [
    {
     "name": "stdout",
     "output_type": "stream",
     "text": [
      "<class 'pandas.core.frame.DataFrame'>\n",
      "Int64Index: 879 entries, 2658 to 1939\n",
      "Data columns (total 79 columns):\n",
      " #   Column           Non-Null Count  Dtype  \n",
      "---  ------           --------------  -----  \n",
      " 0   PID              879 non-null    int64  \n",
      " 1   MS SubClass      879 non-null    int64  \n",
      " 2   MS Zoning        879 non-null    object \n",
      " 3   Lot Frontage     879 non-null    float64\n",
      " 4   Lot Area         879 non-null    int64  \n",
      " 5   Street           879 non-null    object \n",
      " 6   Alley            879 non-null    object \n",
      " 7   Lot Shape        879 non-null    object \n",
      " 8   Land Contour     879 non-null    object \n",
      " 9   Utilities        879 non-null    object \n",
      " 10  Lot Config       879 non-null    object \n",
      " 11  Land Slope       879 non-null    object \n",
      " 12  Neighborhood     879 non-null    object \n",
      " 13  Condition 1      879 non-null    object \n",
      " 14  Condition 2      879 non-null    object \n",
      " 15  Bldg Type        879 non-null    object \n",
      " 16  House Style      879 non-null    object \n",
      " 17  Overall Qual     879 non-null    int64  \n",
      " 18  Overall Cond     879 non-null    int64  \n",
      " 19  Year Built       879 non-null    int64  \n",
      " 20  Year Remod/Add   879 non-null    int64  \n",
      " 21  Roof Style       879 non-null    object \n",
      " 22  Roof Matl        879 non-null    object \n",
      " 23  Exterior 1st     879 non-null    object \n",
      " 24  Exterior 2nd     879 non-null    object \n",
      " 25  Mas Vnr Type     879 non-null    object \n",
      " 26  Mas Vnr Area     879 non-null    object \n",
      " 27  Exter Qual       879 non-null    object \n",
      " 28  Exter Cond       879 non-null    object \n",
      " 29  Foundation       879 non-null    object \n",
      " 30  Bsmt Qual        879 non-null    object \n",
      " 31  Bsmt Cond        879 non-null    object \n",
      " 32  Bsmt Exposure    879 non-null    object \n",
      " 33  BsmtFin Type 1   879 non-null    object \n",
      " 34  BsmtFin SF 1     879 non-null    int64  \n",
      " 35  BsmtFin Type 2   879 non-null    object \n",
      " 36  BsmtFin SF 2     879 non-null    int64  \n",
      " 37  Bsmt Unf SF      879 non-null    int64  \n",
      " 38  Total Bsmt SF    879 non-null    int64  \n",
      " 39  Heating          879 non-null    object \n",
      " 40  Heating QC       879 non-null    object \n",
      " 41  Central Air      879 non-null    object \n",
      " 42  Electrical       879 non-null    object \n",
      " 43  1st Flr SF       879 non-null    int64  \n",
      " 44  2nd Flr SF       879 non-null    int64  \n",
      " 45  Low Qual Fin SF  879 non-null    int64  \n",
      " 46  Gr Liv Area      879 non-null    int64  \n",
      " 47  Bsmt Full Bath   879 non-null    int64  \n",
      " 48  Bsmt Half Bath   879 non-null    int64  \n",
      " 49  Full Bath        879 non-null    int64  \n",
      " 50  Half Bath        879 non-null    int64  \n",
      " 51  Bedroom AbvGr    879 non-null    int64  \n",
      " 52  Kitchen AbvGr    879 non-null    int64  \n",
      " 53  Kitchen Qual     879 non-null    object \n",
      " 54  TotRms AbvGrd    879 non-null    int64  \n",
      " 55  Functional       879 non-null    object \n",
      " 56  Fireplaces       879 non-null    int64  \n",
      " 57  Fireplace Qu     879 non-null    object \n",
      " 58  Garage Type      879 non-null    object \n",
      " 59  Garage Yr Blt    879 non-null    object \n",
      " 60  Garage Finish    879 non-null    object \n",
      " 61  Garage Cars      879 non-null    int64  \n",
      " 62  Garage Area      879 non-null    int64  \n",
      " 63  Garage Qual      879 non-null    object \n",
      " 64  Garage Cond      879 non-null    object \n",
      " 65  Paved Drive      879 non-null    object \n",
      " 66  Wood Deck SF     879 non-null    int64  \n",
      " 67  Open Porch SF    879 non-null    int64  \n",
      " 68  Enclosed Porch   879 non-null    int64  \n",
      " 69  3Ssn Porch       879 non-null    int64  \n",
      " 70  Screen Porch     879 non-null    int64  \n",
      " 71  Pool Area        879 non-null    int64  \n",
      " 72  Pool QC          879 non-null    object \n",
      " 73  Fence            879 non-null    object \n",
      " 74  Misc Feature     879 non-null    object \n",
      " 75  Misc Val         879 non-null    int64  \n",
      " 76  Mo Sold          879 non-null    int64  \n",
      " 77  Yr Sold          879 non-null    int64  \n",
      " 78  Sale Type        879 non-null    object \n",
      "dtypes: float64(1), int64(34), object(44)\n",
      "memory usage: 549.4+ KB\n"
     ]
    }
   ],
   "source": [
    "test_unclean.info()"
   ]
  },
  {
   "cell_type": "markdown",
   "metadata": {},
   "source": [
    "## Export Dataset"
   ]
  },
  {
   "cell_type": "code",
   "execution_count": 19,
   "metadata": {},
   "outputs": [],
   "source": [
    "# exporting cleaned data with no nulls\n",
    "filepath = \"../datasets/test_clean.csv\"\n",
    "test_unclean.to_csv(filepath)"
   ]
  },
  {
   "cell_type": "markdown",
   "metadata": {},
   "source": [
    "## Summary"
   ]
  },
  {
   "cell_type": "markdown",
   "metadata": {},
   "source": [
    "We have cleaned all null values based on analysis of each column without losing any data.\n",
    "In the next section we will perform the Exploratory Data Analysis to find features with strong correlation with our target price."
   ]
  }
 ],
 "metadata": {
  "kernelspec": {
   "display_name": "Python 3",
   "language": "python",
   "name": "python3"
  },
  "language_info": {
   "codemirror_mode": {
    "name": "ipython",
    "version": 3
   },
   "file_extension": ".py",
   "mimetype": "text/x-python",
   "name": "python",
   "nbconvert_exporter": "python",
   "pygments_lexer": "ipython3",
   "version": "3.8.3"
  }
 },
 "nbformat": 4,
 "nbformat_minor": 4
}
